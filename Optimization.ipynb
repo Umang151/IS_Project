{
 "cells": [
  {
   "cell_type": "code",
   "execution_count": 72,
   "id": "5ba8abc9",
   "metadata": {},
   "outputs": [],
   "source": [
    "import numpy as np\n",
    "import gurobipy as gp\n",
    "from gurobipy import *"
   ]
  },
  {
   "cell_type": "code",
   "execution_count": 73,
   "id": "caaa1ea2",
   "metadata": {},
   "outputs": [],
   "source": [
    "m = Model(\"Travel Model\")"
   ]
  },
  {
   "cell_type": "code",
   "execution_count": 74,
   "id": "673f6946",
   "metadata": {},
   "outputs": [],
   "source": [
    "import pandas as pd\n",
    "dm = pd.read_excel('Distance Matrix.xlsx', index_col = 0)"
   ]
  },
  {
   "cell_type": "code",
   "execution_count": 76,
   "id": "00e55122",
   "metadata": {},
   "outputs": [
    {
     "name": "stdout",
     "output_type": "stream",
     "text": [
      "0\n"
     ]
    }
   ],
   "source": [
    "print(dm.iloc[2,2])"
   ]
  },
  {
   "cell_type": "code",
   "execution_count": 77,
   "id": "67bfbd05",
   "metadata": {},
   "outputs": [
    {
     "data": {
      "text/html": [
       "<div>\n",
       "<style scoped>\n",
       "    .dataframe tbody tr th:only-of-type {\n",
       "        vertical-align: middle;\n",
       "    }\n",
       "\n",
       "    .dataframe tbody tr th {\n",
       "        vertical-align: top;\n",
       "    }\n",
       "\n",
       "    .dataframe thead th {\n",
       "        text-align: right;\n",
       "    }\n",
       "</style>\n",
       "<table border=\"1\" class=\"dataframe\">\n",
       "  <thead>\n",
       "    <tr style=\"text-align: right;\">\n",
       "      <th></th>\n",
       "      <th>Tirupati</th>\n",
       "      <th>Tirumala</th>\n",
       "      <th>Talakona Waterfalls</th>\n",
       "      <th>Kanipakam</th>\n",
       "      <th>Kaigal Falls / Dumukurallu Waterfalls</th>\n",
       "      <th>Chandragiri</th>\n",
       "      <th>Sri Venkateswara Zoological Park</th>\n",
       "    </tr>\n",
       "  </thead>\n",
       "  <tbody>\n",
       "    <tr>\n",
       "      <th>Tirupati</th>\n",
       "      <td>0</td>\n",
       "      <td>45</td>\n",
       "      <td>93</td>\n",
       "      <td>74</td>\n",
       "      <td>138</td>\n",
       "      <td>24</td>\n",
       "      <td>18</td>\n",
       "    </tr>\n",
       "    <tr>\n",
       "      <th>Tirumala</th>\n",
       "      <td>49</td>\n",
       "      <td>0</td>\n",
       "      <td>126</td>\n",
       "      <td>113</td>\n",
       "      <td>178</td>\n",
       "      <td>60</td>\n",
       "      <td>47</td>\n",
       "    </tr>\n",
       "    <tr>\n",
       "      <th>Talakona Waterfalls</th>\n",
       "      <td>93</td>\n",
       "      <td>107</td>\n",
       "      <td>0</td>\n",
       "      <td>122</td>\n",
       "      <td>186</td>\n",
       "      <td>77</td>\n",
       "      <td>79</td>\n",
       "    </tr>\n",
       "    <tr>\n",
       "      <th>Kanipakam</th>\n",
       "      <td>70</td>\n",
       "      <td>92</td>\n",
       "      <td>119</td>\n",
       "      <td>0</td>\n",
       "      <td>80</td>\n",
       "      <td>52</td>\n",
       "      <td>64</td>\n",
       "    </tr>\n",
       "    <tr>\n",
       "      <th>Kaigal Falls / Dumukurallu Waterfalls</th>\n",
       "      <td>139</td>\n",
       "      <td>162</td>\n",
       "      <td>188</td>\n",
       "      <td>79</td>\n",
       "      <td>0</td>\n",
       "      <td>121</td>\n",
       "      <td>134</td>\n",
       "    </tr>\n",
       "    <tr>\n",
       "      <th>Chandragiri</th>\n",
       "      <td>24</td>\n",
       "      <td>44</td>\n",
       "      <td>77</td>\n",
       "      <td>57</td>\n",
       "      <td>122</td>\n",
       "      <td>0</td>\n",
       "      <td>16</td>\n",
       "    </tr>\n",
       "    <tr>\n",
       "      <th>Sri Venkateswara Zoological Park</th>\n",
       "      <td>18</td>\n",
       "      <td>30</td>\n",
       "      <td>83</td>\n",
       "      <td>70</td>\n",
       "      <td>134</td>\n",
       "      <td>17</td>\n",
       "      <td>0</td>\n",
       "    </tr>\n",
       "  </tbody>\n",
       "</table>\n",
       "</div>"
      ],
      "text/plain": [
       "                                       Tirupati  Tirumala  \\\n",
       "Tirupati                                      0        45   \n",
       "Tirumala                                     49         0   \n",
       "Talakona Waterfalls                          93       107   \n",
       "Kanipakam                                    70        92   \n",
       "Kaigal Falls / Dumukurallu Waterfalls       139       162   \n",
       "Chandragiri                                  24        44   \n",
       "Sri Venkateswara Zoological Park             18        30   \n",
       "\n",
       "                                       Talakona Waterfalls  Kanipakam  \\\n",
       "Tirupati                                                93         74   \n",
       "Tirumala                                               126        113   \n",
       "Talakona Waterfalls                                      0        122   \n",
       "Kanipakam                                              119          0   \n",
       "Kaigal Falls / Dumukurallu Waterfalls                  188         79   \n",
       "Chandragiri                                             77         57   \n",
       "Sri Venkateswara Zoological Park                        83         70   \n",
       "\n",
       "                                       Kaigal Falls / Dumukurallu Waterfalls  \\\n",
       "Tirupati                                                                 138   \n",
       "Tirumala                                                                 178   \n",
       "Talakona Waterfalls                                                      186   \n",
       "Kanipakam                                                                 80   \n",
       "Kaigal Falls / Dumukurallu Waterfalls                                      0   \n",
       "Chandragiri                                                              122   \n",
       "Sri Venkateswara Zoological Park                                         134   \n",
       "\n",
       "                                       Chandragiri  \\\n",
       "Tirupati                                        24   \n",
       "Tirumala                                        60   \n",
       "Talakona Waterfalls                             77   \n",
       "Kanipakam                                       52   \n",
       "Kaigal Falls / Dumukurallu Waterfalls          121   \n",
       "Chandragiri                                      0   \n",
       "Sri Venkateswara Zoological Park                17   \n",
       "\n",
       "                                       Sri Venkateswara Zoological Park  \n",
       "Tirupati                                                             18  \n",
       "Tirumala                                                             47  \n",
       "Talakona Waterfalls                                                  79  \n",
       "Kanipakam                                                            64  \n",
       "Kaigal Falls / Dumukurallu Waterfalls                               134  \n",
       "Chandragiri                                                          16  \n",
       "Sri Venkateswara Zoological Park                                      0  "
      ]
     },
     "execution_count": 77,
     "metadata": {},
     "output_type": "execute_result"
    }
   ],
   "source": [
    "dm"
   ]
  },
  {
   "cell_type": "code",
   "execution_count": null,
   "id": "5d9d2fd7",
   "metadata": {},
   "outputs": [],
   "source": [
    "P =[i for i in range(7)]\n",
    "print(P)\n",
    "M=[j for j in range(7)]\n",
    "print(M)\n",
    "\n",
    "import random as rd\n",
    "ts = np.random.randint(1,3, size = 7)\n",
    "print(ts)\n",
    "#print(ts[2])\n",
    "    \n",
    "#tp = np.random.random(0.1, 3, (7,7))\n",
    "tp=[[rd.uniform(0.1,3) for i in P]for j in M]\n",
    "tp"
   ]
  },
  {
   "cell_type": "code",
   "execution_count": 79,
   "id": "f58e22a4",
   "metadata": {},
   "outputs": [],
   "source": [
    "#adding variable\n",
    "x = m.addVars(P,M, vtype = GRB.BINARY, name = \"xij\")"
   ]
  },
  {
   "cell_type": "code",
   "execution_count": null,
   "id": "1f4dc47d",
   "metadata": {},
   "outputs": [],
   "source": [
    "#Aadding Constraints\n",
    "m.addConstrs(gp.quicksum(x[i,j] for i in P) == 1 for j in M)\n",
    "m.addConstrs(gp.quicksum(x[i,j] for j in M) == 1 for i in P)\n",
    "\n",
    "m.addConstrs(x[i,j]+x[j,i] <= 1 for i in P for j in M)\n",
    "#m.addConstrs(gp.quicksum(x[0,j] for j in M) == 1)\n",
    "#m.addConstrs(gp.quicksum(x[i,0] for i in P) == 1)\n",
    "\n",
    "\n",
    "m.addConstrs(gp.quicksum(x[i,j]*tp[i][j] for i in P for j in M) <= 9 -ts[i] for i in P)"
   ]
  },
  {
   "cell_type": "code",
   "execution_count": 81,
   "id": "6ca705d8",
   "metadata": {},
   "outputs": [],
   "source": [
    "#Objective Function\n",
    "\n",
    "obj_fn = sum(x[i,j] for i in P for j in M)\n",
    "m.setObjective(obj_fn, GRB.MAXIMIZE)"
   ]
  },
  {
   "cell_type": "code",
   "execution_count": 84,
   "id": "7079e44e",
   "metadata": {},
   "outputs": [
    {
     "name": "stdout",
     "output_type": "stream",
     "text": [
      "Gurobi Optimizer version 10.0.1 build v10.0.1rc0 (win64)\n",
      "\n",
      "CPU model: AMD Ryzen 7 4800H with Radeon Graphics, instruction set [SSE2|AVX|AVX2]\n",
      "Thread count: 8 physical cores, 16 logical processors, using up to 16 threads\n",
      "\n",
      "Optimize a model with 70 rows, 49 columns and 532 nonzeros\n",
      "Model fingerprint: 0x7e9c7661\n",
      "Variable types: 0 continuous, 49 integer (49 binary)\n",
      "Coefficient statistics:\n",
      "  Matrix range     [1e-01, 3e+00]\n",
      "  Objective range  [1e+00, 1e+00]\n",
      "  Bounds range     [1e+00, 1e+00]\n",
      "  RHS range        [1e+00, 8e+00]\n",
      "Presolved: 16 rows, 18 columns, 69 nonzeros\n",
      "\n",
      "Continuing optimization...\n",
      "\n",
      "\n",
      "Explored 0 nodes (0 simplex iterations) in 0.02 seconds (0.00 work units)\n",
      "Thread count was 16 (of 16 available processors)\n",
      "\n",
      "Solution count 1: 7 \n",
      "\n",
      "Optimal solution found (tolerance 1.00e-04)\n",
      "Best objective 7.000000000000e+00, best bound 7.000000000000e+00, gap 0.0000%\n",
      "\n",
      "    Variable            X \n",
      "-------------------------\n",
      "    xij[0,1]            1 \n",
      "    xij[1,5]            1 \n",
      "    xij[2,3]            1 \n",
      "    xij[3,0]            1 \n",
      "    xij[4,2]            1 \n",
      "    xij[5,6]            1 \n",
      "    xij[6,4]            1 \n"
     ]
    }
   ],
   "source": [
    "m.optimize()\n",
    "m.printAttr('X')"
   ]
  },
  {
   "cell_type": "code",
   "execution_count": null,
   "id": "fd8f2ab1",
   "metadata": {
    "scrolled": false
   },
   "outputs": [],
   "source": []
  },
  {
   "cell_type": "code",
   "execution_count": null,
   "id": "226d48ae",
   "metadata": {},
   "outputs": [],
   "source": [
    "\n"
   ]
  },
  {
   "cell_type": "code",
   "execution_count": null,
   "id": "90b1366f",
   "metadata": {},
   "outputs": [],
   "source": []
  }
 ],
 "metadata": {
  "kernelspec": {
   "display_name": "Python 3 (ipykernel)",
   "language": "python",
   "name": "python3"
  },
  "language_info": {
   "codemirror_mode": {
    "name": "ipython",
    "version": 3
   },
   "file_extension": ".py",
   "mimetype": "text/x-python",
   "name": "python",
   "nbconvert_exporter": "python",
   "pygments_lexer": "ipython3",
   "version": "3.10.10"
  }
 },
 "nbformat": 4,
 "nbformat_minor": 5
}
