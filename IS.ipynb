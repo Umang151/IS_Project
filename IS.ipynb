{
 "cells": [
  {
   "cell_type": "code",
   "execution_count": 63,
   "id": "ccd6d3d7",
   "metadata": {
    "scrolled": true
   },
   "outputs": [],
   "source": [
    "import gurobipy as gp\n",
    "from gurobipy import *\n",
    "import random as rd\n",
    "import numpy as np"
   ]
  },
  {
   "cell_type": "code",
   "execution_count": 64,
   "id": "087d04b6",
   "metadata": {
    "scrolled": true
   },
   "outputs": [
    {
     "name": "stdout",
     "output_type": "stream",
     "text": [
      "[9, 7, 7, 5, 7, 7, 2, 6, 4, 7]\n",
      "['Vizianagaram Junction', 'Visakhapatnam Junction', 'Rajahmundry', 'Ongole', 'Kadapa', 'Guntakal Jn', 'Eluru', 'tirupati', 'Bhimavara Town', 'Anantapur']\n"
     ]
    }
   ],
   "source": [
    "import openpyxl\n",
    "wb1 = openpyxl.load_workbook('South2.xlsx', data_only = True)\n",
    "st = wb1.sheetnames\n",
    "st1 = []\n",
    "\n",
    "Pl = []\n",
    "for sheet_name in st:\n",
    "    worksheet1 = wb1[sheet_name]\n",
    "    st1.append(sheet_name)\n",
    "    \n",
    "    g1_value = worksheet1['G1'].value\n",
    "    Pl.append(g1_value)\n",
    "    \n",
    "\n",
    "#print(stations)\n",
    "print(Pl)\n",
    "print(st1)"
   ]
  },
  {
   "cell_type": "code",
   "execution_count": 65,
   "id": "40d03d48",
   "metadata": {},
   "outputs": [
    {
     "name": "stdout",
     "output_type": "stream",
     "text": [
      "Choose a route between North and South: South\n",
      "Total number of stations in the route:  10\n",
      "\n",
      "Number of days you want to spend in Station Vizianagaram Junction\n",
      "2\n",
      "\n",
      "Number of days you want to spend in Station Visakhapatnam Junction\n",
      "2\n",
      "\n",
      "Number of days you want to spend in Station Rajahmundry\n",
      "2\n",
      "\n",
      "Number of days you want to spend in Station Ongole\n",
      "2\n",
      "\n",
      "Number of days you want to spend in Station Kadapa\n",
      "2\n",
      "\n",
      "Number of days you want to spend in Station Guntakal Jn\n",
      "2\n",
      "\n",
      "Number of days you want to spend in Station Eluru\n",
      "2\n",
      "\n",
      "Number of days you want to spend in Station tirupati\n",
      "2\n",
      "\n",
      "Number of days you want to spend in Station Bhimavara Town\n",
      "2\n",
      "\n",
      "Number of days you want to spend in Station Anantapur\n",
      "2\n"
     ]
    },
    {
     "data": {
      "text/plain": [
       "[2, 2, 2, 2, 2, 2, 2, 2, 2, 2]"
      ]
     },
     "execution_count": 65,
     "metadata": {},
     "output_type": "execute_result"
    }
   ],
   "source": [
    "Routes=['North', 'South']\n",
    "NoS=[9, len(st1)]\n",
    "\n",
    "r = input('Choose a route between North and South: ')\n",
    "#print(r)\n",
    "for i in range(len(NoS)):\n",
    "    if int(Routes.index(r))==i:\n",
    "        S=NoS[i]\n",
    "        print('Total number of stations in the route: ', S)\n",
    "TD=[]\n",
    "for (i) in range (S):\n",
    "    d=int(input('\\nNumber of days you want to spend in Station '+ st1[i] +'\\n'))\n",
    "    TD.append(d)\n",
    "TD"
   ]
  },
  {
   "cell_type": "code",
   "execution_count": 66,
   "id": "7c042871",
   "metadata": {},
   "outputs": [],
   "source": [
    "def powerset(fullset):\n",
    "  listsub = list(fullset)\n",
    "  subsets = []\n",
    "  for i in range(2**len(listsub)):\n",
    "    subset = []\n",
    "    for k in range(len(listsub)):\n",
    "      if i & 1<<k:\n",
    "        subset.append(listsub[k])\n",
    "    subsets.append(subset)\n",
    "  return subsets"
   ]
  },
  {
   "cell_type": "code",
   "execution_count": 68,
   "id": "07e97370",
   "metadata": {
    "scrolled": false
   },
   "outputs": [
    {
     "name": "stdout",
     "output_type": "stream",
     "text": [
      "station:  1\n",
      "9\n",
      "[0, 1, 2, 3, 4, 5, 6, 7, 8]\n",
      "[[0 1 3 1 2 2 2 2 2]\n",
      " [1 0 2 1 1 2 2 3 1]\n",
      " [3 2 0 2 1 2 2 1 1]\n",
      " [1 1 2 0 3 2 1 3 1]\n",
      " [2 1 1 3 0 3 2 3 3]\n",
      " [2 2 2 2 3 0 1 1 1]\n",
      " [2 2 2 1 2 1 0 1 2]\n",
      " [2 3 1 3 3 1 1 0 1]\n",
      " [2 1 1 1 3 1 2 1 0]]\n",
      "[2, 2, 1, 1, 2, 2, 3, 3, 3]\n"
     ]
    },
    {
     "ename": "TypeError",
     "evalue": "'Var' object is not iterable",
     "output_type": "error",
     "traceback": [
      "\u001b[1;31m---------------------------------------------------------------------------\u001b[0m",
      "\u001b[1;31mTypeError\u001b[0m                                 Traceback (most recent call last)",
      "Cell \u001b[1;32mIn[68], line 43\u001b[0m\n\u001b[0;32m     41\u001b[0m \u001b[38;5;28;01mfor\u001b[39;00m t \u001b[38;5;129;01min\u001b[39;00m T:\n\u001b[0;32m     42\u001b[0m     \u001b[38;5;28;01mfor\u001b[39;00m j \u001b[38;5;129;01min\u001b[39;00m L:\n\u001b[1;32m---> 43\u001b[0m         m\u001b[38;5;241m.\u001b[39maddConstrs(\u001b[43mgp\u001b[49m\u001b[38;5;241;43m.\u001b[39;49m\u001b[43mquicksum\u001b[49m\u001b[43m(\u001b[49m\u001b[43mxijt\u001b[49m\u001b[43m[\u001b[49m\u001b[38;5;241;43m0\u001b[39;49m\u001b[43m,\u001b[49m\u001b[43mj\u001b[49m\u001b[43m,\u001b[49m\u001b[43mt\u001b[49m\u001b[43m]\u001b[49m\u001b[43m)\u001b[49m \u001b[38;5;241m<\u001b[39m\u001b[38;5;241m=\u001b[39m d)\n\u001b[0;32m     45\u001b[0m \u001b[38;5;28;01mfor\u001b[39;00m t \u001b[38;5;129;01min\u001b[39;00m T:\n\u001b[0;32m     46\u001b[0m     \u001b[38;5;28;01mfor\u001b[39;00m i \u001b[38;5;129;01min\u001b[39;00m L:\n",
      "File \u001b[1;32msrc\\gurobipy\\gurobi.pxi:3706\u001b[0m, in \u001b[0;36mgurobipy.quicksum\u001b[1;34m()\u001b[0m\n",
      "\u001b[1;31mTypeError\u001b[0m: 'Var' object is not iterable"
     ]
    }
   ],
   "source": [
    "for i in range(S):\n",
    "    print(\"station:  \" + str(i+1))\n",
    "    print(Pl[i]) #number of places in ith station\n",
    "    L = [p for p in range(Pl[i])]\n",
    "    print(L)\n",
    "    T = [b for b in range(TD[i])]\n",
    "    p = Pl[i]\n",
    "    d = TD[i]\n",
    "    \n",
    "    #place to place travel time\n",
    "    for j in L:\n",
    "        for i in L:\n",
    "            tp = np.random.randint(low=1, high=4, size=(p,p))\n",
    "            tp = np.triu(tp, 1) + np.triu(tp, 1).T\n",
    "            np.fill_diagonal(tp, 0)\n",
    "    print(tp)\n",
    "\n",
    "    #time of stay per station\n",
    "    ts = [rd.randint(1, 3) for i in range(p)]  # generate the random vector\n",
    "    print(ts)\n",
    "    m=gp.Model('Travel')\n",
    "    \n",
    "    #Variable\n",
    "    xijt = m.addVars(L, L, T, vtype=GRB.BINARY, name ='xijt')\n",
    "    \n",
    "    #Objective Function\n",
    "    obj_fn = sum(xijt[i,j,t] for t in T for i in L for j in L)\n",
    "    m.setObjective(obj_fn, GRB.MAXIMIZE)\n",
    "    \n",
    "    \n",
    "    #final constrints:  \n",
    "    m.addConstrs((gp.quicksum(xijt[i,j,t] for t in T) <= 1 for i in L for j in L if i != 0 or j != 0))\n",
    "    m.addConstrs(gp.quicksum(xijt[i,j,t] for t in T for i in L) <= 1 for j in L if i != 0 or j != 0)\n",
    "    m.addConstrs(gp.quicksum(xijt[i,j,t] for t in T for j in L) <= 1 for i in L if i != 0 or j != 0)\n",
    "    m.addConstrs(gp.quicksum(xijt[i,j,t] for i in L) == gp.quicksum(xijt[j,i,t] for i in L) for j in L for t in T)\n",
    "    m.addConstrs(gp.quicksum(xijt[i,i,t] for t in T) == 0 for i in L)\n",
    "    m.addConstrs(gp.quicksum(xijt[i,j,t]*tp[i][j] for i in L for j in L) + gp.quicksum(xijt[i,j,t]*ts[j] for j in L) <= 12 for t in T)\n",
    "    #m.addConstrs(gp.quicksum(xijt[0,j,t] for t in T) <= d for j in L)\n",
    "    #m.addConstrs(gp.quicksum(xijt[i,0,t] for t in T) <= d for i in L)\n",
    "    \n",
    "    m.optimize()\n",
    "    m.printAttr('X')\n",
    "    #end\n",
    "#     for r in range(2, Pl[i]):\n",
    "#         for subset in itertools.combinations(range(1, Pl[i]), r):\n",
    "#             # create a binary variable for each subset\n",
    "#             sub_vars = [xijt[i, j, t] for i in subset for j in subset if i != j for t in T]\n",
    "#             m.addConstr(gp.quicksum(sub_vars) >= 1)\n",
    "\n",
    "    \n",
    "    \n",
    "    \n",
    "    #subtour elimination\n",
    "#     for Su in powerset(L):\n",
    "#         #print(S)\n",
    "#         if len(Su)>=1 and (len(Su)<Pl[i]):\n",
    "#             sumt=0\n",
    "#             for t in T:\n",
    "#                 for i in Su:\n",
    "#                     for j in L:\n",
    "#                         if j not in Su:\n",
    "#                             sumt=sumt+xijt[i,j,t]\n",
    "#                             m.addConstr(sumt, GRB.GREATER_EQUAL, 1)\n",
    "\n",
    "    #print(xijt[1,5,0])\n",
    "    \n",
    "#     print(xijt)"
   ]
  },
  {
   "cell_type": "code",
   "execution_count": null,
   "id": "89520037",
   "metadata": {},
   "outputs": [],
   "source": []
  },
  {
   "cell_type": "code",
   "execution_count": null,
   "id": "cec448aa",
   "metadata": {},
   "outputs": [],
   "source": []
  },
  {
   "cell_type": "code",
   "execution_count": null,
   "id": "d2b28895",
   "metadata": {},
   "outputs": [],
   "source": []
  }
 ],
 "metadata": {
  "kernelspec": {
   "display_name": "Python 3 (ipykernel)",
   "language": "python",
   "name": "python3"
  },
  "language_info": {
   "codemirror_mode": {
    "name": "ipython",
    "version": 3
   },
   "file_extension": ".py",
   "mimetype": "text/x-python",
   "name": "python",
   "nbconvert_exporter": "python",
   "pygments_lexer": "ipython3",
   "version": "3.10.10"
  }
 },
 "nbformat": 4,
 "nbformat_minor": 5
}
